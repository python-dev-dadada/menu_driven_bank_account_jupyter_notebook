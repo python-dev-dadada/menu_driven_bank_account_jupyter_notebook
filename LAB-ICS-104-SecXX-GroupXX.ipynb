{
 "cells": [
  {
   "cell_type": "markdown",
   "metadata": {
    "deletable": false,
    "editable": false
   },
   "source": [
    "---------------------------------------------------------------------------------------------------------------------------\n",
    "---------------------------------------------------------------------------------------------------------------------------\n",
    "                       \n",
    "                               Done By: Ibrahim Nemer (inemer@kfupm.edu.sa)\n",
    "        \n",
    "---------------------------------------------------------------------------------------------------------------------------\n",
    "---------------------------------------------------------------------------------------------------------------------------"
   ]
  },
  {
   "cell_type": "code",
   "execution_count": 1,
   "metadata": {},
   "outputs": [],
   "source": [
    "sectionNumber = \"\"\n",
    "groupNumber = \"\"\n",
    "studentName1 = \"\"\n",
    "studentNameID1 = \"\"\n",
    "stdContribution1 = \"\"\n",
    "studentName2 = \"\"\n",
    "studentNameID2 = \"\"\n",
    "stdContribution2 = \"\""
   ]
  },
  {
   "cell_type": "markdown",
   "metadata": {},
   "source": [
    "# Title\n",
    "Enter the title of your project here.\n",
    "\n",
    "## Purpose\n",
    "Describe the objective of your project here.\n",
    "\n",
    "## Methodology\n",
    "Describe your methodology in details here including: pseudo code, assumptions and processing steps.\n",
    "\n",
    "## Improvements\n",
    "Show how you divided your project into stages and the required time for each stage, as follows:\n",
    "- Stage ONE: Function 1, Function 2  and I achieved it within one day/hour.\n",
    "- Stage TWO: ...................\n",
    "- Stage THREE: ...................\n",
    "- ...........\n",
    "\n",
    "## Results\n",
    "Describe and comment the most important results for each stage as images (insert your image and describe it briefly).\n",
    "\n",
    "## Remaining stages\n",
    "State the remaining stages (if you have); state your thoughts for these stages and why you didn't achieve them."
   ]
  },
  {
   "cell_type": "markdown",
   "metadata": {},
   "source": [
    "# Setup\n",
    "\n",
    "## Local library import\n",
    "We import all the required Python libraries in the following cell only."
   ]
  },
  {
   "cell_type": "code",
   "execution_count": 2,
   "metadata": {},
   "outputs": [],
   "source": [
    "# libraries and modules based on the permitted list on the description of the project\n",
    "import sys\n"
   ]
  },
  {
   "cell_type": "markdown",
   "metadata": {},
   "source": [
    "## Other library import\n",
    "We import also another libraries which are not from the permitted list. Here, you are required to comment why you add them and if you got approval from your lab instructor or NOT."
   ]
  },
  {
   "cell_type": "code",
   "execution_count": 3,
   "metadata": {},
   "outputs": [],
   "source": [
    "# Include other libraries\n",
    "import re\n",
    "from time import sleep\n",
    "from os import system, name \n",
    "from datetime import datetime\n"
   ]
  },
  {
   "cell_type": "markdown",
   "metadata": {},
   "source": [
    "# Functions\n",
    "Put your functions including the main function after this line in code-cells, add cells as the number of functions."
   ]
  },
  {
   "cell_type": "code",
   "execution_count": 4,
   "metadata": {},
   "outputs": [],
   "source": [
    "def clear(): \n",
    "    # for windows \n",
    "    if name == 'nt': \n",
    "        _ = system('cls') \n",
    "  \n",
    "    # for mac and linux(here, os.name is 'posix') \n",
    "    else: \n",
    "        _ = system('clear') \n"
   ]
  },
  {
   "cell_type": "code",
   "execution_count": 5,
   "metadata": {},
   "outputs": [],
   "source": [
    "def check_digits(num):\n",
    "    if len(num) !=4: return False\n",
    "    for i in range(1, 4):\n",
    "        for j in range(i):\n",
    "            if num[i] == num[j]:return False\n",
    "    return True"
   ]
  },
  {
   "cell_type": "code",
   "execution_count": 6,
   "metadata": {},
   "outputs": [],
   "source": [
    "def current_time():\n",
    "    now = datetime.now()\n",
    "    return now.strftime(\"%Y-%m-%d %H:%M:%S\")"
   ]
  },
  {
   "cell_type": "code",
   "execution_count": 7,
   "metadata": {},
   "outputs": [],
   "source": [
    "def create():\n",
    "    card_number = \"\"\n",
    "    pin_number = \"\"\n",
    "    email = \"\"\n",
    "    extra_service = []\n",
    "    while True:\n",
    "        clear()\n",
    "        card_number = input('Enter card number(4-digits): ')\n",
    "        if check_digits(card_number): break\n",
    "    \n",
    "    while True:\n",
    "        clear()\n",
    "        pin_number = input('Enter PIN number(4-digits): ')\n",
    "        if check_digits(pin_number): break\n",
    "\n",
    "    while True:\n",
    "        clear()\n",
    "        email = input('Enter KFUPM email: ')\n",
    "        regex = '^[a-z0-9]+[\\._]?[a-z0-9]+[@]kfupm.edu.sa$'\n",
    "        if(re.search(regex, email)):break\n",
    "\n",
    "    while True:\n",
    "        clear()\n",
    "        if len(extra_service) == 0:\n",
    "            e = input('Enter extra service: ')\n",
    "        else:\n",
    "            e = input('Enter extra service (enter \"X\" to end): ')\n",
    "        if e.upper() == \"X\":\n",
    "            if len(extra_service) > 0: break\n",
    "        else:\n",
    "            if e != \"\":\n",
    "                extra_service.append(e)\n",
    "\n",
    "    # Write into cardNumber.txt\n",
    "    with open('cardNumber.txt', 'w') as out_file:\n",
    "        out_file.write(\"card number: \" + card_number)\n",
    "        out_file.write(\"\\nPIN number: \" + pin_number)\n",
    "        out_file.write(\"\\nemail: \" + email)\n",
    "        out_file.write(\"\\nextra service: \" + \"; \".join(extra_service))\n",
    "        out_file.write(\"\\nmoney: 0\\n\")\n",
    "    out_file.close()\n",
    "    \n",
    "    sleep(3)\n",
    "    login()"
   ]
  },
  {
   "cell_type": "code",
   "execution_count": 8,
   "metadata": {},
   "outputs": [],
   "source": [
    "def login():\n",
    "    card_number = \"\"\n",
    "    pin_number = \"\"\n",
    "    try:\n",
    "        with open('cardNumber.txt', 'r') as in_file:\n",
    "            card_number = in_file.readline()\n",
    "            card_number = card_number[len(\"card number: \"):-1]\n",
    "            pin_number = in_file.readline()\n",
    "            pin_number = pin_number[len(\"PIN number: \"):-1]\n",
    "        in_file.close()\n",
    "    except:\n",
    "        print(\"Warning: There are no registered users.\")\n",
    "        sleep(2)\n",
    "        return False\n",
    "\n",
    "    while True:\n",
    "        clear()\n",
    "        print(\"\\t\" * 2 + \"LOG IN\")\n",
    "        print(\"=\" * 40)\n",
    "        if input(\"\\nEnter card number: \") == card_number: break\n",
    "\n",
    "    while True:\n",
    "        clear()\n",
    "        print(\"\\t\" * 2 + \"LOG IN\")\n",
    "        print(\"=\" * 40)\n",
    "        if input(\"\\nEnter PIN number: \") == pin_number: break\n",
    "\n",
    "    sleep(3)\n",
    "    return True"
   ]
  },
  {
   "cell_type": "code",
   "execution_count": 9,
   "metadata": {},
   "outputs": [],
   "source": [
    "def show(file):\n",
    "    with open(file, 'r') as in_file:\n",
    "        clear()\n",
    "        print(\"\\t\" + \"Show account information\")\n",
    "        print(\"=\" * 40 + \"\\n\")\n",
    "        print(in_file.read())\n",
    "    in_file.close()\n",
    "    sleep(5)"
   ]
  },
  {
   "cell_type": "code",
   "execution_count": 10,
   "metadata": {},
   "outputs": [],
   "source": [
    "def changePINFun(currentPIN, cardNumber, file):\n",
    "    clear()\n",
    "    print(\"\\tChange PIN number\")\n",
    "    print(\"=\" * 40)\n",
    "    pin_number = \"\"\n",
    "    if input(\"\\nEnter current PIN number: \") != currentPIN:\n",
    "        print(\"\\nWarning: Wrong PIN number\")\n",
    "    else:        \n",
    "        while True:\n",
    "            clear()\n",
    "            print(\"\\t\" + \"Change PIN number\")\n",
    "            print(\"=\" * 40)\n",
    "            pin_number = input('\\nEnter new PIN number(4-digits): ')\n",
    "            if check_digits(pin_number): break\n",
    "        content = []\n",
    "        with open(file, 'r') as in_file:\n",
    "            content = in_file.readlines()\n",
    "        in_file.close()\n",
    "        content[1] = \"PIN number: \" + pin_number + \"\\n\"\n",
    "        with open(file, 'w', newline=\"\") as out_file:\n",
    "            out_file.write(\"\".join(content))\n",
    "        out_file.close()\n",
    "    sleep(3)"
   ]
  },
  {
   "cell_type": "code",
   "execution_count": 11,
   "metadata": {},
   "outputs": [],
   "source": [
    "def withdrawFun(money, cardNumber, file):\n",
    "    amount = 0\n",
    "    while True:\n",
    "        clear()\n",
    "        print(\"\\tWithdraw amount of money\")\n",
    "        print(\"=\" * 40)\n",
    "        amount = input('\\nEnter the amount to withdraw: ')\n",
    "        try:\n",
    "            if float(amount) <= money: break\n",
    "        except:\n",
    "            pass\n",
    "        print(\"\\nYou don't have enough money in your account.\")\n",
    "        sleep(1)\n",
    "    try:\n",
    "        new_money = round(money - float(amount), 4)\n",
    "        with open(file, 'r') as in_file:\n",
    "            content = in_file.readlines()\n",
    "        in_file.close()\n",
    "        content[4] = \"money: \" + str(new_money) + \"\\n\"\n",
    "        content.append(current_time() + \", $\" + amount + \" has been withdrawn.\\n\")\n",
    "        with open(file, 'w', newline=\"\") as out_file:\n",
    "            out_file.write(\"\".join(content))\n",
    "        out_file.close()\n",
    "    except:\n",
    "        pass\n",
    "    sleep(3)"
   ]
  },
  {
   "cell_type": "code",
   "execution_count": 12,
   "metadata": {},
   "outputs": [],
   "source": [
    "def depositFun(file, nMoney, cardNumber):\n",
    "    clear()\n",
    "    print(\"\\tDeposit amount of money\")\n",
    "    print(\"=\" * 40)\n",
    "    amount = input('\\nEnter the amount to be deposited: ')\n",
    "    try:\n",
    "        new_money = round(float(amount) + nMoney, 4)\n",
    "        with open(file, 'r') as in_file:\n",
    "            content = in_file.readlines()\n",
    "        in_file.close()\n",
    "        content[4] = \"money: \" + str(new_money) + \"\\n\"\n",
    "        content.append(current_time() + \", $\" + amount + \" has been deposited.\\n\")\n",
    "        with open(file, 'w', newline=\"\") as out_file:\n",
    "            out_file.write(\"\".join(content))\n",
    "        out_file.close()\n",
    "    except:\n",
    "        pass\n",
    "    sleep(3)"
   ]
  },
  {
   "cell_type": "code",
   "execution_count": 13,
   "metadata": {},
   "outputs": [],
   "source": [
    "def payBillFun(file, nMoney, cardNumber):\n",
    "    clear()\n",
    "    print(\"\\t\\tPay bills\")\n",
    "    print(\"=\" * 40)\n",
    "    bill_name = input('\\nEnter the name of the bill: ')\n",
    "    account_number = input('\\nEnter the account number of this bill: ')\n",
    "    amount = 0\n",
    "    \n",
    "    clear()\n",
    "    print(\"\\t\\tPay bills\")\n",
    "    print(\"=\" * 40)\n",
    "    amount = input('\\nEnter the value of this bill: ')\n",
    "    deposit_amount = 0\n",
    "    \n",
    "    while float(amount) > nMoney + float(deposit_amount):\n",
    "        clear()\n",
    "        print(\"\\t\\tPay bills\")\n",
    "        print(\"=\" * 40)\n",
    "        print(\"\\nYou don't have enough money in your account.\")\n",
    "        deposit_amount = input('\\nEnter the amount to be deposited (>=$' + str(round(float(amount) - nMoney, 4)) + '): ')\n",
    "    try:\n",
    "        new_money = round(nMoney + float(deposit_amount) - float(amount), 4)\n",
    "        with open(file, 'r') as in_file:\n",
    "            content = in_file.readlines()\n",
    "        in_file.close()\n",
    "        content.append(current_time() + \", $\" + deposit_amount + \" has been deposited.\\n\")\n",
    "        with open(file, 'w', newline=\"\") as out_file:\n",
    "            out_file.write(\"\".join(content))\n",
    "        out_file.close()\n",
    "    except:\n",
    "        pass\n",
    "    sleep(3)"
   ]
  },
  {
   "cell_type": "code",
   "execution_count": 14,
   "metadata": {},
   "outputs": [],
   "source": [
    "def viewTransactionsFun(cardNumber):\n",
    "    clear()\n",
    "    print(\"\\tView the last transactions\")\n",
    "    print(\"=\" * 40 + \"\\n\")    \n",
    "    with open(\"cardNumber.txt\", 'r') as in_file:\n",
    "        content = in_file.readlines()\n",
    "        if len(content) > 5:\n",
    "            print(content[-1])\n",
    "        else:\n",
    "            print(\"no transactions\")\n",
    "    in_file.close()\n",
    "    sleep(3)"
   ]
  },
  {
   "cell_type": "code",
   "execution_count": 15,
   "metadata": {},
   "outputs": [],
   "source": [
    "def terminateFun(file, nMoney, cardNumber):\n",
    "    viewTransactionsFun(cardNumber)"
   ]
  },
  {
   "cell_type": "code",
   "execution_count": 16,
   "metadata": {},
   "outputs": [],
   "source": [
    "def start():\n",
    "    while True:\n",
    "        clear()\n",
    "        user_input = input('Enter \"L\" to log in or \"S\" to sign up: ')\n",
    "        if user_input.upper() in [\"L\", \"S\"]:\n",
    "            if user_input.upper() == \"S\":\n",
    "                create()\n",
    "            if login(): break"
   ]
  },
  {
   "cell_type": "code",
   "execution_count": 17,
   "metadata": {},
   "outputs": [],
   "source": [
    "def main():\n",
    "    start()\n",
    "    card_number = \"\"\n",
    "    pin_number = \"\"\n",
    "    email = \"\"\n",
    "    extra_service = \"\"\n",
    "    money = 0\n",
    "    file = \"cardNumber.txt\"\n",
    "    \n",
    "    while True:\n",
    "        with open('cardNumber.txt', 'r') as in_file:\n",
    "            card_number = in_file.readline()\n",
    "            card_number = card_number[len(\"card number: \"):-1]\n",
    "            pin_number = in_file.readline()\n",
    "            pin_number = pin_number[len(\"PIN number: \"):-1]\n",
    "            email = in_file.readline()\n",
    "            email = email[len(\"email: \"):-1]\n",
    "            extra_service = in_file.readline()\n",
    "            extra_service = extra_service[len(\"extra service: \"):-1]\n",
    "            money = in_file.readline()\n",
    "            try:\n",
    "                money = float(money[len(\"money: \"):-1])\n",
    "            except:\n",
    "                pass\n",
    "        in_file.close()\n",
    "        clear()\n",
    "        print(\"\\t\" + \"Bank Account Progam\")\n",
    "        print(\"=\" * 40)\n",
    "        print(\"\"\"\\n1. Show account information\n",
    "2. Change PIN number\n",
    "3. Withdraw amount of money\n",
    "4. Deposit amount of money\n",
    "5. Pay bills\n",
    "6. View the last transactions\n",
    "7. Terminate a program\\n\"\"\")\n",
    "        print(\"=\" * 40)\n",
    "    \n",
    "        user_input = input(\"\\nEnter Your Feature: \")\n",
    "        try:\n",
    "            if user_input == \"1\":\n",
    "                show(file)\n",
    "            elif user_input == \"2\":\n",
    "                changePINFun(pin_number, card_number, file)\n",
    "            elif user_input == \"3\":\n",
    "                withdrawFun(money, card_number, file)\n",
    "            elif user_input == \"4\":\n",
    "                depositFun(file, money, card_number)\n",
    "            elif user_input == \"5\":\n",
    "                payBillFun(file, money, card_number)\n",
    "            elif user_input == \"6\":\n",
    "                viewTransactionsFun(card_number)\n",
    "            elif user_input == \"7\":                \n",
    "                break\n",
    "        except:\n",
    "            pass\n",
    "\n",
    "    terminateFun(file, money, card_number)"
   ]
  },
  {
   "cell_type": "code",
   "execution_count": null,
   "metadata": {},
   "outputs": [],
   "source": [
    "main()"
   ]
  },
  {
   "cell_type": "markdown",
   "metadata": {},
   "source": [
    "# Test Cases\n",
    "Put here two test cases, you can insert them as images."
   ]
  },
  {
   "cell_type": "markdown",
   "metadata": {},
   "source": [
    "# References\n",
    "Report here the relevant references (journals, books, websites):\n",
    "1. author1, article1, journal1, year1, url1\n",
    "2. author2, article2, journal2, year2, url2"
   ]
  },
  {
   "cell_type": "code",
   "execution_count": null,
   "metadata": {},
   "outputs": [],
   "source": []
  }
 ],
 "metadata": {
  "kernelspec": {
   "display_name": "Python 3",
   "language": "python",
   "name": "python3"
  },
  "language_info": {
   "codemirror_mode": {
    "name": "ipython",
    "version": 3
   },
   "file_extension": ".py",
   "mimetype": "text/x-python",
   "name": "python",
   "nbconvert_exporter": "python",
   "pygments_lexer": "ipython3",
   "version": "3.7.9"
  },
  "toc": {
   "base_numbering": 1,
   "nav_menu": {},
   "number_sections": true,
   "sideBar": true,
   "skip_h1_title": false,
   "title_cell": "Table of Contents",
   "title_sidebar": "Contents",
   "toc_cell": false,
   "toc_position": {},
   "toc_section_display": true,
   "toc_window_display": false
  }
 },
 "nbformat": 4,
 "nbformat_minor": 4
}
